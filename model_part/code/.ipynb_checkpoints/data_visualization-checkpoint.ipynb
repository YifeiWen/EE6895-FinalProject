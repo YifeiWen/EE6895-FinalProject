{
 "cells": [
  {
   "cell_type": "code",
   "execution_count": 2,
   "id": "58f0ece7",
   "metadata": {},
   "outputs": [],
   "source": [
    "import numpy as np\n",
    "import pandas as pd"
   ]
  },
  {
   "cell_type": "code",
   "execution_count": 3,
   "id": "0da9cb15",
   "metadata": {},
   "outputs": [],
   "source": [
    "dataset = pd.read_csv(\"../Data/IT_Data.csv\")"
   ]
  },
  {
   "cell_type": "code",
   "execution_count": 21,
   "id": "e568e784",
   "metadata": {},
   "outputs": [
    {
     "data": {
      "text/html": [
       "<div>\n",
       "<style scoped>\n",
       "    .dataframe tbody tr th:only-of-type {\n",
       "        vertical-align: middle;\n",
       "    }\n",
       "\n",
       "    .dataframe tbody tr th {\n",
       "        vertical-align: top;\n",
       "    }\n",
       "\n",
       "    .dataframe thead th {\n",
       "        text-align: right;\n",
       "    }\n",
       "</style>\n",
       "<table border=\"1\" class=\"dataframe\">\n",
       "  <thead>\n",
       "    <tr style=\"text-align: right;\">\n",
       "      <th></th>\n",
       "      <th>ID</th>\n",
       "      <th>Query</th>\n",
       "      <th>Job Title</th>\n",
       "      <th>Description</th>\n",
       "    </tr>\n",
       "  </thead>\n",
       "  <tbody>\n",
       "    <tr>\n",
       "      <th>0</th>\n",
       "      <td>1</td>\n",
       "      <td>Data Scientist</td>\n",
       "      <td>Junior Data Scientist Apprenticeship</td>\n",
       "      <td>Job Description As a Junior Data Scientist at ...</td>\n",
       "    </tr>\n",
       "    <tr>\n",
       "      <th>1</th>\n",
       "      <td>2</td>\n",
       "      <td>Data Scientist</td>\n",
       "      <td>HBO Data Scientist, Content Science</td>\n",
       "      <td>OVERALL SUMMARY As a Data Scientist on the Dat...</td>\n",
       "    </tr>\n",
       "    <tr>\n",
       "      <th>2</th>\n",
       "      <td>3</td>\n",
       "      <td>Data Scientist</td>\n",
       "      <td>Junior Data Scientist</td>\n",
       "      <td>The Team: The Data science team is a newly for...</td>\n",
       "    </tr>\n",
       "    <tr>\n",
       "      <th>3</th>\n",
       "      <td>4</td>\n",
       "      <td>Data Scientist</td>\n",
       "      <td>Jr Data Scientist</td>\n",
       "      <td>We now have a need for junior Data Scientist(s...</td>\n",
       "    </tr>\n",
       "    <tr>\n",
       "      <th>4</th>\n",
       "      <td>5</td>\n",
       "      <td>Data Scientist</td>\n",
       "      <td>Data Scientist, Premium Content</td>\n",
       "      <td>Do you want to help guide the core business of...</td>\n",
       "    </tr>\n",
       "  </tbody>\n",
       "</table>\n",
       "</div>"
      ],
      "text/plain": [
       "   ID           Query                             Job Title  \\\n",
       "0   1  Data Scientist  Junior Data Scientist Apprenticeship   \n",
       "1   2  Data Scientist   HBO Data Scientist, Content Science   \n",
       "2   3  Data Scientist                 Junior Data Scientist   \n",
       "3   4  Data Scientist                     Jr Data Scientist   \n",
       "4   5  Data Scientist       Data Scientist, Premium Content   \n",
       "\n",
       "                                         Description  \n",
       "0  Job Description As a Junior Data Scientist at ...  \n",
       "1  OVERALL SUMMARY As a Data Scientist on the Dat...  \n",
       "2  The Team: The Data science team is a newly for...  \n",
       "3  We now have a need for junior Data Scientist(s...  \n",
       "4  Do you want to help guide the core business of...  "
      ]
     },
     "execution_count": 21,
     "metadata": {},
     "output_type": "execute_result"
    }
   ],
   "source": [
    "dataset.head(5)"
   ]
  },
  {
   "cell_type": "code",
   "execution_count": 7,
   "id": "edfad93a",
   "metadata": {},
   "outputs": [
    {
     "data": {
      "text/plain": [
       "0         Data Scientist\n",
       "1         Data Scientist\n",
       "2         Data Scientist\n",
       "3         Data Scientist\n",
       "4         Data Scientist\n",
       "              ...       \n",
       "12995    Software Tester\n",
       "12996    Software Tester\n",
       "12997    Software Tester\n",
       "12998    Software Tester\n",
       "12999    Software Tester\n",
       "Name: Query, Length: 13000, dtype: object"
      ]
     },
     "execution_count": 7,
     "metadata": {},
     "output_type": "execute_result"
    }
   ],
   "source": [
    "dataset['Query']"
   ]
  },
  {
   "cell_type": "code",
   "execution_count": 8,
   "id": "95076a5d",
   "metadata": {},
   "outputs": [
    {
     "data": {
      "text/plain": [
       "array(['Data Scientist', 'Data Analyst', 'Data Architect',\n",
       "       'Data Engineer', 'Statistics', 'Database Administrator',\n",
       "       'Business Analyst', 'Data and Analytics Manager',\n",
       "       'Machine Learning', 'Artificial Intelligence', 'Deep Learning',\n",
       "       'Business Intelligence Analyst', 'Data Visualization Expert',\n",
       "       'Data Quality Manager', 'Big Data Engineer', 'Data Warehousing',\n",
       "       'Technology Integration', 'IT Consultant',\n",
       "       'IT Systems Administrator', 'Cloud Architect',\n",
       "       'Technical Operations', 'Cloud Services Developer',\n",
       "       'Full Stack Developer', 'Information Security Analyst',\n",
       "       'Network Architect', 'DevOps Engineer', 'Web Developer',\n",
       "       'Data Scientist ', 'Software Developer', 'Software Engineer',\n",
       "       'Machine Learning Expert', 'SAP Consultant', 'Project Manager',\n",
       "       'Software Tester'], dtype=object)"
      ]
     },
     "execution_count": 8,
     "metadata": {},
     "output_type": "execute_result"
    }
   ],
   "source": [
    "dataset['Query'].unique()"
   ]
  },
  {
   "cell_type": "code",
   "execution_count": 9,
   "id": "44363fca",
   "metadata": {},
   "outputs": [
    {
     "data": {
      "text/plain": [
       "34"
      ]
     },
     "execution_count": 9,
     "metadata": {},
     "output_type": "execute_result"
    }
   ],
   "source": [
    "len(dataset['Query'].unique())"
   ]
  },
  {
   "cell_type": "code",
   "execution_count": 19,
   "id": "f0e32b75",
   "metadata": {},
   "outputs": [
    {
     "data": {
      "text/plain": [
       "Database Administrator           600\n",
       "IT Consultant                    598\n",
       "Data Analyst                     597\n",
       "Business Analyst                 596\n",
       "Information Security Analyst     595\n",
       "Cloud Architect                  540\n",
       "Big Data Engineer                520\n",
       "Network Architect                511\n",
       "Full Stack Developer             400\n",
       "Data Scientist                   400\n",
       "IT Systems Administrator         399\n",
       "Data and Analytics Manager       399\n",
       "Technology Integration           399\n",
       "Data Architect                   399\n",
       "Cloud Services Developer         395\n",
       "Technical Operations             394\n",
       "Data Quality Manager             394\n",
       "Machine Learning                 392\n",
       "Statistics                       390\n",
       "Data Warehousing                 385\n",
       "Data Engineer                    385\n",
       "Artificial Intelligence          382\n",
       "Deep Learning                    381\n",
       "Data Visualization Expert        377\n",
       "Business Intelligence Analyst    372\n",
       "Software Engineer                200\n",
       "Web Developer                    200\n",
       "DevOps Engineer                  200\n",
       "SAP Consultant                   200\n",
       "Software Tester                  200\n",
       "Software Developer               200\n",
       "Project Manager                  200\n",
       "Data Scientist                   200\n",
       "Machine Learning Expert          200\n",
       "Name: Query, dtype: int64"
      ]
     },
     "execution_count": 19,
     "metadata": {},
     "output_type": "execute_result"
    }
   ],
   "source": [
    "dataset['Query'].value_counts()"
   ]
  },
  {
   "cell_type": "code",
   "execution_count": null,
   "id": "e64f3e92",
   "metadata": {},
   "outputs": [],
   "source": []
  }
 ],
 "metadata": {
  "kernelspec": {
   "display_name": "Python 3",
   "language": "python",
   "name": "python3"
  },
  "language_info": {
   "codemirror_mode": {
    "name": "ipython",
    "version": 3
   },
   "file_extension": ".py",
   "mimetype": "text/x-python",
   "name": "python",
   "nbconvert_exporter": "python",
   "pygments_lexer": "ipython3",
   "version": "3.8.8"
  }
 },
 "nbformat": 4,
 "nbformat_minor": 5
}
