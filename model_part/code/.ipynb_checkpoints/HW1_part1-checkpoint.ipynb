{
 "cells": [
  {
   "cell_type": "markdown",
   "id": "f2878c8e",
   "metadata": {},
   "source": [
    "Part1"
   ]
  },
  {
   "cell_type": "code",
   "execution_count": 1,
   "id": "318a4a49",
   "metadata": {},
   "outputs": [],
   "source": [
    "import pyspark\n",
    "sc = pyspark.SparkContext()"
   ]
  },
  {
   "cell_type": "code",
   "execution_count": 7,
   "id": "0d360bbc",
   "metadata": {},
   "outputs": [],
   "source": [
    "#extract IP and Byte\n",
    "data = sc.textFile(\"epa-http.txt\").map(lambda x: (x.split(' ')[0], x.split(' ')[-1]))\n",
    "#remove invalid Byte that is  '-' and transfer Byte into int\n",
    "data = data.filter(lambda x : '-' not in x[1]).map(lambda x : (x[0], int(x[1])))\n",
    "#keep numerical IP\n",
    "data = data.filter(lambda x : ''.join(x[0].split('.')).isdigit())\n",
    "#compute Byte for eaach unique IP and sort by IP in string ascending order \n",
    "data = data.reduceByKey(lambda x,y : x + y).sortByKey()"
   ]
  },
  {
   "cell_type": "code",
   "execution_count": 8,
   "id": "9b89d2f4",
   "metadata": {},
   "outputs": [
    {
     "name": "stdout",
     "output_type": "stream",
     "text": [
      "+---------------+-------+\n",
      "|IP             |Bytes  |\n",
      "+---------------+-------+\n",
      "|128.104.66.114 |4889   |\n",
      "|128.120.125.246|11359  |\n",
      "|128.120.153.224|480433 |\n",
      "|128.120.5.70   |0      |\n",
      "|128.120.68.34  |61554  |\n",
      "|128.138.177.19 |156204 |\n",
      "|128.138.177.44 |167591 |\n",
      "|128.138.177.6  |63856  |\n",
      "|128.144.102.56 |521757 |\n",
      "|128.148.245.158|3947   |\n",
      "|128.150.157.33 |35238  |\n",
      "|128.158.53.34  |73249  |\n",
      "|128.159.128.27 |1052103|\n",
      "|128.159.144.142|17074  |\n",
      "|128.159.146.92 |18181  |\n",
      "|128.163.10.219 |12130  |\n",
      "|128.163.17.212 |212306 |\n",
      "|128.163.40.45  |258067 |\n",
      "|128.165.180.61 |92188  |\n",
      "|128.180.28.3   |5388   |\n",
      "+---------------+-------+\n",
      "only showing top 20 rows\n",
      "\n"
     ]
    }
   ],
   "source": [
    "from pyspark.sql import SparkSession\n",
    "spark = SparkSession(sc)\n",
    "dataColumns = [\"IP\",\"Bytes\"]\n",
    "df = data.toDF(dataColumns)\n",
    "df.show(truncate=False)"
   ]
  },
  {
   "cell_type": "code",
   "execution_count": 6,
   "id": "ea621f86",
   "metadata": {},
   "outputs": [],
   "source": [
    "df.toPandas().to_csv('HW1_part1.csv',index=None)"
   ]
  },
  {
   "cell_type": "code",
   "execution_count": null,
   "id": "7b83635a",
   "metadata": {},
   "outputs": [],
   "source": []
  }
 ],
 "metadata": {
  "kernelspec": {
   "display_name": "Python 3",
   "language": "python",
   "name": "python3"
  },
  "language_info": {
   "codemirror_mode": {
    "name": "ipython",
    "version": 3
   },
   "file_extension": ".py",
   "mimetype": "text/x-python",
   "name": "python",
   "nbconvert_exporter": "python",
   "pygments_lexer": "ipython3",
   "version": "3.8.8"
  }
 },
 "nbformat": 4,
 "nbformat_minor": 5
}
