{
 "cells": [
  {
   "cell_type": "code",
   "execution_count": 2,
   "id": "ce3eb100",
   "metadata": {},
   "outputs": [],
   "source": [
    "import re\n",
    "import sys\n",
    "import getopt\n",
    "import pandas as pd\n",
    "import numpy as np\n",
    "from nltk.corpus import stopwords\n",
    "from sklearn.feature_extraction.text import TfidfVectorizer\n",
    "from sklearn.metrics.pairwise import cosine_similarity\n",
    "from nltk.stem.porter import PorterStemmer\n",
    "from sklearn import svm"
   ]
  },
  {
   "cell_type": "code",
   "execution_count": 49,
   "id": "1b1d4c74",
   "metadata": {},
   "outputs": [],
   "source": [
    "import pdfplumber\n",
    "path = 'C:/Users/wsy/Desktop/Resume/SDE/'\n",
    "#path = 'C:/Users/wsy/Desktop/'\n",
    "with pdfplumber.open(path + 'CV-Shiyu Wang.pdf') as rpdf:\n",
    "    first_page = rpdf.pages[0]\n",
    "    cv_pdf = first_page.extract_text() "
   ]
  },
  {
   "cell_type": "code",
   "execution_count": 41,
   "id": "bb2f3d6a",
   "metadata": {},
   "outputs": [],
   "source": [
    "all_stopwords = stopwords.words('english')"
   ]
  },
  {
   "cell_type": "code",
   "execution_count": 42,
   "id": "c26de0cd",
   "metadata": {},
   "outputs": [
    {
     "name": "stdout",
     "output_type": "stream",
     "text": [
      "yifei wen w th st new york ny http www linkedin com yifeiwen yw columbia edu educ columbia univers new york ny comput engin expect dec cours cloud comput big data ai advanc comput network user interfac formal verif zhejiang sci tech univers hangzhou cn electron inform scienc technolog jun cours java data structur algorithm comput network pattern recognit intellig inform process experi reliabl transmiss system tcp base udp nov dec implement system sender receiv use python accomplish reliabl tcp transmiss simul unreli network packet loss disord corrupt design checksum ack confirm timeout retransmiss slide window mechan base udp realiz reliabl transmiss design develop vernacular tourism platform jan may develop full stack web applic base node js javascript provid tourist attract inform includ local cultur surround environ local custom hotel introduct design front end user interfac execut vue js framework element ui implement back end server rest api express framework made queri mysql util ali cloud servic launch platform includ databas front end back end part onlin built substanti high perform web page includ function shop modul travel rout recommend activ upload registr cultur inform view etc develop smart dormitori system jan mar build test back end api java base team member improv interact perform util vue js construct manag system allow k teacher student ask leav manag attend upload inquir dormitori hygien score deploy data visual dashboard echart javascript base analyz data new student registr rate research studi fingerprint modul obtain compar characterist valu use c employ git cooper team member develop effect web page includ addit delet modif check attend dormitori inform leav approv led present project busi plan colleg student innov competit softwar metro runner subway game dec may deploy back stage manag system use flask python base allow administr alloc game data realiz data visual user interfac bootstrap jqueri adopt uniti engin realiz game charact dress select match function use c cooper back end develop manag data dynam includ data upload acquisit chart display analyz innov function propos detail busi plan commerci game leverag swot model market analysi cover segment place promot sustain develop skill program languag java javascript python c c matlab html css nodej framework tool aw vue js react element ui bootstrap jqueri mysql flask spark git award zhejiang govern scholarship zstu top nd prize outstand student scholarship zstu top rd prize zstu mathemat contest model\n"
     ]
    }
   ],
   "source": [
    "for i in range(len(cv_pdf)):\n",
    "    if not cv_pdf[i].isalpha():\n",
    "        cv_pdf = cv_pdf.replace(cv_pdf[i],' ')\n",
    "cv_pdf = cv_pdf.lower().split()\n",
    "\n",
    "ps = PorterStemmer()\n",
    "temp = []\n",
    "for j in range(len(cv_pdf)):\n",
    "    if not cv_pdf[j] in all_stopwords:\n",
    "        temp.append(ps.stem(cv_pdf[j]))\n",
    "temp = ' '.join(temp)\n",
    "cv_pdf = temp\n",
    "print(cv_pdf)"
   ]
  },
  {
   "cell_type": "code",
   "execution_count": 50,
   "id": "c60a0433",
   "metadata": {},
   "outputs": [],
   "source": [
    "path = 'C:/Users/wsy/Desktop/ELEN6895/project/project/Data/processed_data.csv'\n",
    "jobs = pd.read_csv(path)\n",
    "#jobs = np.array(jobs)\n",
    "#print(jobs[0])"
   ]
  },
  {
   "cell_type": "code",
   "execution_count": 51,
   "id": "d651fd6a",
   "metadata": {},
   "outputs": [],
   "source": [
    "tf = TfidfVectorizer()\n",
    "from sklearn.model_selection import train_test_split\n",
    "\n",
    "trainx = tf.fit_transform(jobs[\"Description\"])\n",
    "trainy = jobs[\"Query\"]\n",
    "#trainx = tf.fit_transform(jobs[:,1])\n",
    "#trainy = jobs[:,0]\n",
    "x_train, x_test, y_train, y_test = train_test_split(trainx, trainy, test_size = 0.25, random_state = 0)"
   ]
  },
  {
   "cell_type": "code",
   "execution_count": 45,
   "id": "12023fdc",
   "metadata": {},
   "outputs": [
    {
     "data": {
      "text/plain": [
       "array([[0., 0., 0., ..., 0., 0., 0.],\n",
       "       [0., 0., 0., ..., 0., 0., 0.],\n",
       "       [0., 0., 0., ..., 0., 0., 0.],\n",
       "       ...,\n",
       "       [0., 0., 0., ..., 0., 0., 0.],\n",
       "       [0., 0., 0., ..., 0., 0., 0.],\n",
       "       [0., 0., 0., ..., 0., 0., 0.]])"
      ]
     },
     "execution_count": 45,
     "metadata": {},
     "output_type": "execute_result"
    }
   ],
   "source": [
    "trainx.toarray()"
   ]
  },
  {
   "cell_type": "code",
   "execution_count": 46,
   "id": "571624cd",
   "metadata": {},
   "outputs": [
    {
     "data": {
      "text/plain": [
       "<13000x28177 sparse matrix of type '<class 'numpy.float64'>'\n",
       "\twith 2781526 stored elements in Compressed Sparse Row format>"
      ]
     },
     "execution_count": 46,
     "metadata": {},
     "output_type": "execute_result"
    }
   ],
   "source": [
    "trainx"
   ]
  },
  {
   "cell_type": "code",
   "execution_count": 25,
   "id": "2f423287",
   "metadata": {},
   "outputs": [],
   "source": [
    "'''\n",
    "from sklearn.preprocessing import StandardScaler\n",
    "sc = StandardScaler(with_mean=False)\n",
    "x_train = sc.fit_transform(x_train)\n",
    "x_test = sc.transform(x_test)\n",
    "\n",
    "import sklearn\n",
    "x_train = sklearn.preprocessing.normalize(x_train)\n",
    "x_test = sklearn.preprocessing.normalize(x_test)\n",
    "'''"
   ]
  },
  {
   "cell_type": "code",
   "execution_count": 52,
   "id": "fc3de830",
   "metadata": {},
   "outputs": [],
   "source": [
    "\n",
    "clf = svm.LinearSVC()\n",
    "clf.fit(x_train, y_train)\n",
    "y_pred = clf.predict(x_test)\n"
   ]
  },
  {
   "cell_type": "code",
   "execution_count": 12,
   "id": "e884059d",
   "metadata": {},
   "outputs": [
    {
     "data": {
      "text/plain": [
       "\"\\nclf = svm.SVC(decision_function_shape='ovo')\\nclf.fit(x_train, y_train)\\ny_pred = clf.predict(x_test)\\n\""
      ]
     },
     "execution_count": 12,
     "metadata": {},
     "output_type": "execute_result"
    }
   ],
   "source": [
    "'''\n",
    "clf = svm.SVC(decision_function_shape='ovo')\n",
    "clf.fit(x_train, y_train)\n",
    "y_pred = clf.predict(x_test)\n",
    "'''"
   ]
  },
  {
   "cell_type": "code",
   "execution_count": 35,
   "id": "5b310099",
   "metadata": {},
   "outputs": [
    {
     "data": {
      "text/plain": [
       "RandomForestClassifier(max_depth=2, random_state=0)"
      ]
     },
     "execution_count": 35,
     "metadata": {},
     "output_type": "execute_result"
    }
   ],
   "source": [
    "'''\n",
    "from sklearn.ensemble import RandomForestClassifier\n",
    "regr = RandomForestClassifier(max_depth=2, random_state=0)\n",
    "regr.fit(x_train, y_train)\n",
    "'''"
   ]
  },
  {
   "cell_type": "code",
   "execution_count": 53,
   "id": "ae2d2446",
   "metadata": {},
   "outputs": [
    {
     "data": {
      "text/plain": [
       "0.5827692307692308"
      ]
     },
     "execution_count": 53,
     "metadata": {},
     "output_type": "execute_result"
    }
   ],
   "source": [
    "#Evaluation\n",
    "from sklearn.metrics import accuracy_score\n",
    "accuracy_score(y_test, y_pred)"
   ]
  },
  {
   "cell_type": "code",
   "execution_count": 55,
   "id": "44176c9a",
   "metadata": {},
   "outputs": [
    {
     "data": {
      "text/plain": [
       "'Full Stack Developer'"
      ]
     },
     "execution_count": 55,
     "metadata": {},
     "output_type": "execute_result"
    }
   ],
   "source": [
    "testcase1_x = tf.transform([cv_pdf])\n",
    "testcase1_y = clf.predict(testcase1_x)\n",
    "testcase1_y[0]"
   ]
  },
  {
   "cell_type": "code",
   "execution_count": null,
   "id": "0442b7c7",
   "metadata": {},
   "outputs": [],
   "source": []
  },
  {
   "cell_type": "code",
   "execution_count": null,
   "id": "b4846192",
   "metadata": {},
   "outputs": [],
   "source": []
  }
 ],
 "metadata": {
  "kernelspec": {
   "display_name": "Python 3",
   "language": "python",
   "name": "python3"
  },
  "language_info": {
   "codemirror_mode": {
    "name": "ipython",
    "version": 3
   },
   "file_extension": ".py",
   "mimetype": "text/x-python",
   "name": "python",
   "nbconvert_exporter": "python",
   "pygments_lexer": "ipython3",
   "version": "3.8.8"
  }
 },
 "nbformat": 4,
 "nbformat_minor": 5
}
