{
 "cells": [
  {
   "cell_type": "code",
   "execution_count": 1,
   "id": "4e6513b1",
   "metadata": {},
   "outputs": [
    {
     "name": "stderr",
     "output_type": "stream",
     "text": [
      "[nltk_data] Downloading package stopwords to\n",
      "[nltk_data]     C:\\Users\\wsy\\AppData\\Roaming\\nltk_data...\n",
      "[nltk_data]   Package stopwords is already up-to-date!\n"
     ]
    }
   ],
   "source": [
    "import re\n",
    "import nltk\n",
    "#from nltk import data\n",
    "import numpy as np\n",
    "import pandas as pd\n",
    "from pandas import DataFrame\n",
    "nltk.download(\"stopwords\")\n",
    "from nltk.corpus import stopwords\n",
    "from nltk.stem import PorterStemmer"
   ]
  },
  {
   "cell_type": "code",
   "execution_count": 2,
   "id": "007b36bc",
   "metadata": {},
   "outputs": [
    {
     "name": "stdout",
     "output_type": "stream",
     "text": [
      "            Query                                        Description\n",
      "0  Data Scientist  Job Description As a Junior Data Scientist at ...\n",
      "1  Data Scientist  OVERALL SUMMARY As a Data Scientist on the Dat...\n",
      "2  Data Scientist  The Team: The Data science team is a newly for...\n",
      "3  Data Scientist  We now have a need for junior Data Scientist(s...\n",
      "4  Data Scientist  Do you want to help guide the core business of...\n"
     ]
    }
   ],
   "source": [
    "dataset = pd.read_csv(\"../Data/IT_Data.csv\")\n",
    "dataset = dataset.drop(['ID','Job Title'],axis = 1)\n",
    "print(dataset.head(5))"
   ]
  },
  {
   "cell_type": "code",
   "execution_count": 3,
   "id": "3e535377",
   "metadata": {},
   "outputs": [
    {
     "data": {
      "text/plain": [
       "array(['Data Scientist',\n",
       "       'OVERALL SUMMARY As a Data Scientist on the Data Science Solutions team, this individual will be responsible for building advance data science and analytical solutions that help HBO better understand and grow its best in class television and film library. The data products this individual develops will have a wide impact across the business, from helping HBO audiences discover new content to finding new hit television shows. The Data Scientist will work closely with engineering teams to ensure that their products and insights are properly moved into a production environment, where they can be used by the wider analytics team to drive business strategies. PRIMARY RESPONSIBILITIES Lead the development of data science solutions that help HBO make smarter content decisions across development, scheduling, marketing, and digital platforms (including HBO NOW, HBO GO and HBO.com) Mine HBO and other third party data to better understand how consumers make their entertainment choices Work with engineering teams to transfer knowledge and processes into production environment REQUIREMENTS Bachelor Degree or MS in quantitative field of study (statistics, operations research etc.) from an accredited institution or extensive work experience Experience applying machine learning in a professional environment. Experience with neural networks, computer vision, or deep learning is a plus Strong background in analytic programming (R, Python) Strong desire to continue to learn and develop as a data scientist Proven technical abilities, but excellent written and verbal communication and presentation skills Proven success when partnering with engineering and business teams Logical thinking ability Capability to work on multiple projects simultaneously with limited supervision 4+ years of relevant experience'],\n",
       "      dtype=object)"
      ]
     },
     "execution_count": 3,
     "metadata": {},
     "output_type": "execute_result"
    }
   ],
   "source": [
    "dataset = np.array(dataset)\n",
    "dataset[1,:]"
   ]
  },
  {
   "cell_type": "code",
   "execution_count": 4,
   "id": "2d232bf1",
   "metadata": {},
   "outputs": [],
   "source": [
    "all_stopwords = stopwords.words('english')"
   ]
  },
  {
   "cell_type": "code",
   "execution_count": 5,
   "id": "bd55db03",
   "metadata": {},
   "outputs": [
    {
     "name": "stdout",
     "output_type": "stream",
     "text": [
      "['i', 'me', 'my', 'myself', 'we', 'our', 'ours', 'ourselves', 'you', \"you're\", \"you've\", \"you'll\", \"you'd\", 'your', 'yours', 'yourself', 'yourselves', 'he', 'him', 'his', 'himself', 'she', \"she's\", 'her', 'hers', 'herself', 'it', \"it's\", 'its', 'itself', 'they', 'them', 'their', 'theirs', 'themselves', 'what', 'which', 'who', 'whom', 'this', 'that', \"that'll\", 'these', 'those', 'am', 'is', 'are', 'was', 'were', 'be', 'been', 'being', 'have', 'has', 'had', 'having', 'do', 'does', 'did', 'doing', 'a', 'an', 'the', 'and', 'but', 'if', 'or', 'because', 'as', 'until', 'while', 'of', 'at', 'by', 'for', 'with', 'about', 'against', 'between', 'into', 'through', 'during', 'before', 'after', 'above', 'below', 'to', 'from', 'up', 'down', 'in', 'out', 'on', 'off', 'over', 'under', 'again', 'further', 'then', 'once', 'here', 'there', 'when', 'where', 'why', 'how', 'all', 'any', 'both', 'each', 'few', 'more', 'most', 'other', 'some', 'such', 'no', 'nor', 'not', 'only', 'own', 'same', 'so', 'than', 'too', 'very', 's', 't', 'can', 'will', 'just', 'don', \"don't\", 'should', \"should've\", 'now', 'd', 'll', 'm', 'o', 're', 've', 'y', 'ain', 'aren', \"aren't\", 'couldn', \"couldn't\", 'didn', \"didn't\", 'doesn', \"doesn't\", 'hadn', \"hadn't\", 'hasn', \"hasn't\", 'haven', \"haven't\", 'isn', \"isn't\", 'ma', 'mightn', \"mightn't\", 'mustn', \"mustn't\", 'needn', \"needn't\", 'shan', \"shan't\", 'shouldn', \"shouldn't\", 'wasn', \"wasn't\", 'weren', \"weren't\", 'won', \"won't\", 'wouldn', \"wouldn't\"]\n"
     ]
    }
   ],
   "source": [
    "print(all_stopwords)"
   ]
  },
  {
   "cell_type": "code",
   "execution_count": 6,
   "id": "efe62c25",
   "metadata": {},
   "outputs": [
    {
     "name": "stdout",
     "output_type": "stream",
     "text": [
      "['Data Scientist'\n",
      " 'overal summari data scientist data scienc solut team individu respons build advanc data scienc analyt solut help hbo better understand grow best class televis film librari data product individu develop wide impact across busi help hbo audienc discov new content find new hit televis show data scientist work close engin team ensur product insight properli move product environ use wider analyt team drive busi strategi primari respons lead develop data scienc solut help hbo make smarter content decis across develop schedul market digit platform includ hbo hbo go hbo com mine hbo third parti data better understand consum make entertain choic work engin team transfer knowledg process product environ requir bachelor degre ms quantit field studi statist oper research etc accredit institut extens work experi experi appli machin learn profession environ experi neural network comput vision deep learn plu strong background analyt program r python strong desir continu learn develop data scientist proven technic abil excel written verbal commun present skill proven success partner engin busi team logic think abil capabl work multipl project simultan limit supervis year relev experi']\n"
     ]
    }
   ],
   "source": [
    "for i in range(len(dataset)):\n",
    "    for j in range(len(dataset[i][1])):\n",
    "        if not dataset[i][1][j].isalpha():\n",
    "            dataset[i][1] = dataset[i][1].replace(dataset[i][1][j],' ')\n",
    "    dataset[i][1] = dataset[i][1].lower().split()\n",
    "    ps = PorterStemmer()\n",
    "    temp = []\n",
    "    for k in range(len(dataset[i][1])):\n",
    "        if not dataset[i][1][k] in all_stopwords:\n",
    "            temp.append(ps.stem(dataset[i][1][k]))\n",
    "    temp = ' '.join(temp)\n",
    "    dataset[i][1] = temp\n",
    "    \n",
    "\n",
    "print(dataset[1,:])"
   ]
  },
  {
   "cell_type": "code",
   "execution_count": 72,
   "id": "2d513cd9",
   "metadata": {},
   "outputs": [
    {
     "name": "stdout",
     "output_type": "stream",
     "text": [
      "            Query                                        Description\n",
      "0  Data Scientist  job descript junior data scientist ibm work pa...\n",
      "1  Data Scientist  overal summari data scientist data scienc solu...\n"
     ]
    }
   ],
   "source": [
    "df = DataFrame(dataset,index=None,columns = [\"Query\",\"Description\"])\n",
    "print(df.head(5))"
   ]
  },
  {
   "cell_type": "code",
   "execution_count": 74,
   "id": "0175c270",
   "metadata": {},
   "outputs": [],
   "source": [
    "df.to_csv(\"../Data/processed_data.csv\", index=False)"
   ]
  },
  {
   "cell_type": "code",
   "execution_count": null,
   "id": "fa75cc6b",
   "metadata": {},
   "outputs": [],
   "source": []
  }
 ],
 "metadata": {
  "kernelspec": {
   "display_name": "Python 3",
   "language": "python",
   "name": "python3"
  },
  "language_info": {
   "codemirror_mode": {
    "name": "ipython",
    "version": 3
   },
   "file_extension": ".py",
   "mimetype": "text/x-python",
   "name": "python",
   "nbconvert_exporter": "python",
   "pygments_lexer": "ipython3",
   "version": "3.8.8"
  }
 },
 "nbformat": 4,
 "nbformat_minor": 5
}
