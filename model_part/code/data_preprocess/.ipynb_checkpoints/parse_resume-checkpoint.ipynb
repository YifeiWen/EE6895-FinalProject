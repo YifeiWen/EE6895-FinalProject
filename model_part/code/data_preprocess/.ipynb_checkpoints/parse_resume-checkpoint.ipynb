{
 "cells": [
  {
   "cell_type": "code",
   "execution_count": 1,
   "id": "5b6743b1",
   "metadata": {},
   "outputs": [],
   "source": [
    "import pdfplumber"
   ]
  },
  {
   "cell_type": "code",
   "execution_count": 2,
   "id": "b6afee27",
   "metadata": {},
   "outputs": [],
   "source": [
    "path = 'C:/Users/wsy/Desktop/Resume/CV.pdf' # path of pdf\n",
    "with pdfplumber.open(path) as rpdf:\n",
    "    first_page = rpdf.pages[0]\n",
    "    pdf = first_page.extract_text()    \n",
    "pdf_line = pdf.split('\\n')"
   ]
  },
  {
   "cell_type": "code",
   "execution_count": 3,
   "id": "006b71de",
   "metadata": {},
   "outputs": [],
   "source": [
    "def parse_resume(pdf_line):\n",
    "    title = {'EDUCATION':[],'SKILLS':[],'EXPERIENCES':[],'AWARDS':[]}\n",
    "    \n",
    "    i = 0\n",
    "    while i < len(pdf_line):\n",
    "\n",
    "        flag = True\n",
    "\n",
    "        if 'EDUCATION' in pdf_line[i].strip().upper().split() or 'EDUCATIONS' in pdf_line[i].strip().upper().split():\n",
    "            j = i + 1\n",
    "            while j < len(pdf_line) - 1:\n",
    "                title['EDUCATION'].append(pdf_line[j])\n",
    "                j += 1\n",
    "                i = j\n",
    "                for key in title:\n",
    "                    if key in pdf_line[j].strip().upper().split() or key[0:-1] in pdf_line[j].strip().upper().split():\n",
    "                        flag = False\n",
    "                    if not flag:\n",
    "                        break  \n",
    "                if not flag:\n",
    "                    break\n",
    "\n",
    "\n",
    "\n",
    "        elif 'SKILL' in pdf_line[i].strip().upper().split() or 'SKILLS' in pdf_line[i].strip().upper().split():\n",
    "            j = i + 1\n",
    "            while j < len(pdf_line) - 1:\n",
    "                title['SKILLS'].append(pdf_line[j])\n",
    "                j += 1\n",
    "                i = j\n",
    "                for key in title:\n",
    "                    if key in pdf_line[j].strip().upper().split() or key[0:-1] in pdf_line[j].strip().upper().split():\n",
    "                        flag = False\n",
    "                    if not flag:\n",
    "                        break  \n",
    "                if not flag:\n",
    "                    break\n",
    "\n",
    "\n",
    "\n",
    "        elif 'EXPERIENCE' in pdf_line[i].strip().upper().split() or 'EXPERIENCES' in pdf_line[i].strip().upper().split():\n",
    "            j = i + 1\n",
    "            while j < len(pdf_line) - 1:\n",
    "                title['EXPERIENCES'].append(pdf_line[j])\n",
    "                j += 1\n",
    "                i = j\n",
    "                for key in title:\n",
    "                    if key in pdf_line[j].strip().upper().split() or key[0:-1] in pdf_line[j].strip().upper().split():\n",
    "                        flag = False\n",
    "                    if not flag:\n",
    "                        break  \n",
    "                if not flag:\n",
    "                    break\n",
    "\n",
    "        elif 'AWARDS' in pdf_line[i].strip().upper().split() or 'AWARDS' in pdf_line[i].strip().upper().split() or 'HORNOR' in pdf_line[i].strip().upper().split() or 'HORNORS' in pdf_line[i].strip().upper().split():\n",
    "            while j < len(pdf_line) - 1:\n",
    "                title['EXPERIENCES'].append(pdf_line[j])\n",
    "                j += 1\n",
    "                i = j\n",
    "                for key in title:\n",
    "                    if key in pdf_line[j].strip().upper().split() or key[0:-1] in pdf_line[j].strip().upper().split():\n",
    "                        flag = False\n",
    "                    if not flag:\n",
    "                        break  \n",
    "                if not flag:\n",
    "                    break\n",
    "\n",
    "        else:\n",
    "            i += 1\n",
    "        \n",
    "    return title\n"
   ]
  },
  {
   "cell_type": "code",
   "execution_count": 4,
   "id": "03199f22",
   "metadata": {},
   "outputs": [],
   "source": [
    "title = parse_resume(pdf_line)"
   ]
  },
  {
   "cell_type": "code",
   "execution_count": 6,
   "id": "ebc9b785",
   "metadata": {},
   "outputs": [
    {
     "data": {
      "text/plain": [
       "['Programming: C, R, VHDL, Assembly Language, HTML, Simulink, Proficient in MATLAB and Python ',\n",
       " 'Software & Framework: VMware, MATLAB, Keil, R Studio, IDEs, Spark, Sklearn, Keras ',\n",
       " 'Language: Chinese, English, French ',\n",
       " ' ']"
      ]
     },
     "execution_count": 6,
     "metadata": {},
     "output_type": "execute_result"
    }
   ],
   "source": [
    "title['SKILLS']"
   ]
  },
  {
   "cell_type": "code",
   "execution_count": 9,
   "id": "9048e0f7",
   "metadata": {},
   "outputs": [
    {
     "data": {
      "text/plain": [
       "['../model_save/parse_cv.pkl']"
      ]
     },
     "execution_count": 9,
     "metadata": {},
     "output_type": "execute_result"
    }
   ],
   "source": [
    "import joblib\n",
    "joblib.dump(parse_resume, '../model_save/parse_cv.pkl') "
   ]
  },
  {
   "cell_type": "code",
   "execution_count": null,
   "id": "1f4e571b",
   "metadata": {},
   "outputs": [],
   "source": []
  }
 ],
 "metadata": {
  "kernelspec": {
   "display_name": "Python 3",
   "language": "python",
   "name": "python3"
  },
  "language_info": {
   "codemirror_mode": {
    "name": "ipython",
    "version": 3
   },
   "file_extension": ".py",
   "mimetype": "text/x-python",
   "name": "python",
   "nbconvert_exporter": "python",
   "pygments_lexer": "ipython3",
   "version": "3.8.8"
  }
 },
 "nbformat": 4,
 "nbformat_minor": 5
}
