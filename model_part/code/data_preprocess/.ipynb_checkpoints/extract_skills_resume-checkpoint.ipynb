{
 "cells": [
  {
   "cell_type": "code",
   "execution_count": 1,
   "id": "50f214ed",
   "metadata": {},
   "outputs": [],
   "source": [
    "import pdfplumber\n",
    "import joblib"
   ]
  },
  {
   "cell_type": "code",
   "execution_count": 2,
   "id": "611a3b80",
   "metadata": {},
   "outputs": [],
   "source": [
    "def parse_resume(pdf_line):\n",
    "    title = {'EDUCATION':[],'SKILLS':[],'EXPERIENCES':[],'AWARDS':[]}\n",
    "    \n",
    "    i = 0\n",
    "    while i < len(pdf_line):\n",
    "\n",
    "        flag = True\n",
    "\n",
    "        if 'EDUCATION' in pdf_line[i].strip().upper().split() or 'EDUCATIONS' in pdf_line[i].strip().upper().split():\n",
    "            j = i + 1\n",
    "            while j < len(pdf_line) - 1:\n",
    "                title['EDUCATION'].append(pdf_line[j])\n",
    "                j += 1\n",
    "                i = j\n",
    "                for key in title:\n",
    "                    if key in pdf_line[j].strip().upper().split() or key[0:-1] in pdf_line[j].strip().upper().split():\n",
    "                        flag = False\n",
    "                    if not flag:\n",
    "                        break  \n",
    "                if not flag:\n",
    "                    break\n",
    "\n",
    "\n",
    "\n",
    "        elif 'SKILL' in pdf_line[i].strip().upper().split() or 'SKILLS' in pdf_line[i].strip().upper().split():\n",
    "            j = i + 1\n",
    "            while j < len(pdf_line) - 1:\n",
    "                title['SKILLS'].append(pdf_line[j])\n",
    "                j += 1\n",
    "                i = j\n",
    "                for key in title:\n",
    "                    if key in pdf_line[j].strip().upper().split() or key[0:-1] in pdf_line[j].strip().upper().split():\n",
    "                        flag = False\n",
    "                    if not flag:\n",
    "                        break  \n",
    "                if not flag:\n",
    "                    break\n",
    "\n",
    "\n",
    "\n",
    "        elif 'EXPERIENCE' in pdf_line[i].strip().upper().split() or 'EXPERIENCES' in pdf_line[i].strip().upper().split():\n",
    "            j = i + 1\n",
    "            while j < len(pdf_line) - 1:\n",
    "                title['EXPERIENCES'].append(pdf_line[j])\n",
    "                j += 1\n",
    "                i = j\n",
    "                for key in title:\n",
    "                    if key in pdf_line[j].strip().upper().split() or key[0:-1] in pdf_line[j].strip().upper().split():\n",
    "                        flag = False\n",
    "                    if not flag:\n",
    "                        break  \n",
    "                if not flag:\n",
    "                    break\n",
    "\n",
    "        elif 'AWARDS' in pdf_line[i].strip().upper().split() or 'AWARDS' in pdf_line[i].strip().upper().split() or 'HORNOR' in pdf_line[i].strip().upper().split() or 'HORNORS' in pdf_line[i].strip().upper().split():\n",
    "            while j < len(pdf_line) - 1:\n",
    "                title['EXPERIENCES'].append(pdf_line[j])\n",
    "                j += 1\n",
    "                i = j\n",
    "                for key in title:\n",
    "                    if key in pdf_line[j].strip().upper().split() or key[0:-1] in pdf_line[j].strip().upper().split():\n",
    "                        flag = False\n",
    "                    if not flag:\n",
    "                        break  \n",
    "                if not flag:\n",
    "                    break\n",
    "\n",
    "        else:\n",
    "            i += 1\n",
    "        \n",
    "    return title\n"
   ]
  },
  {
   "cell_type": "code",
   "execution_count": 3,
   "id": "59f2ecbf",
   "metadata": {},
   "outputs": [],
   "source": [
    "path = 'C:/Users/wsy/Desktop/Resume/SDE/'\n",
    "with pdfplumber.open(path + 'CV.pdf') as rpdf:\n",
    "    first_page = rpdf.pages[0]\n",
    "    pdf = first_page.extract_text()    \n",
    "pdf_line = pdf.split('\\n')"
   ]
  },
  {
   "cell_type": "code",
   "execution_count": 4,
   "id": "e36f27d3",
   "metadata": {},
   "outputs": [],
   "source": [
    "title = parse_resume(pdf_line)"
   ]
  },
  {
   "cell_type": "code",
   "execution_count": 5,
   "id": "a4415365",
   "metadata": {},
   "outputs": [],
   "source": [
    "resume_skill = ''\n",
    "for i in range(len(title['SKILLS'])):\n",
    "    resume_skill += title['SKILLS'][i]"
   ]
  },
  {
   "cell_type": "code",
   "execution_count": null,
   "id": "325879b3",
   "metadata": {},
   "outputs": [],
   "source": []
  }
 ],
 "metadata": {
  "kernelspec": {
   "display_name": "Python 3",
   "language": "python",
   "name": "python3"
  },
  "language_info": {
   "codemirror_mode": {
    "name": "ipython",
    "version": 3
   },
   "file_extension": ".py",
   "mimetype": "text/x-python",
   "name": "python",
   "nbconvert_exporter": "python",
   "pygments_lexer": "ipython3",
   "version": "3.8.8"
  }
 },
 "nbformat": 4,
 "nbformat_minor": 5
}
