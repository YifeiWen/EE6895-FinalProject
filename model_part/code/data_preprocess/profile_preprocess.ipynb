{
 "cells": [
  {
   "cell_type": "code",
   "execution_count": 22,
   "id": "179a8801",
   "metadata": {},
   "outputs": [],
   "source": [
    "import numpy as np\n",
    "import pandas as pd\n",
    "import joblib\n",
    "from nltk.stem.porter import PorterStemmer\n",
    "from nltk.corpus import stopwords\n",
    "import re"
   ]
  },
  {
   "cell_type": "code",
   "execution_count": 23,
   "id": "32226a70",
   "metadata": {},
   "outputs": [
    {
     "name": "stderr",
     "output_type": "stream",
     "text": [
      "D:\\software\\professional\\anaconda\\lib\\site-packages\\IPython\\core\\interactiveshell.py:3165: DtypeWarning: Columns (8,12,13,14,15,16,50,51,52,53,55,56,57,58,59,60,61,62,63,64,65,66,67,68,69,70,71,72,73,74,75,76,77,78,79,80,81,82,83,84,85,93,94,95,96,97,98,99,100,101,102,103,104,105,106,107,108,109,110,111,112,113,114,115,116,117,118,119,120,121,122,123,124,125,126,127,128) have mixed types.Specify dtype option on import or set low_memory=False.\n",
      "  has_raised = await self.run_ast_nodes(code_ast.body, cell_name,\n"
     ]
    },
    {
     "data": {
      "text/html": [
       "<div>\n",
       "<style scoped>\n",
       "    .dataframe tbody tr th:only-of-type {\n",
       "        vertical-align: middle;\n",
       "    }\n",
       "\n",
       "    .dataframe tbody tr th {\n",
       "        vertical-align: top;\n",
       "    }\n",
       "\n",
       "    .dataframe thead th {\n",
       "        text-align: right;\n",
       "    }\n",
       "</style>\n",
       "<table border=\"1\" class=\"dataframe\">\n",
       "  <thead>\n",
       "    <tr style=\"text-align: right;\">\n",
       "      <th></th>\n",
       "      <th>skills</th>\n",
       "      <th>jobtitle</th>\n",
       "    </tr>\n",
       "  </thead>\n",
       "  <tbody>\n",
       "    <tr>\n",
       "      <th>0</th>\n",
       "      <td>JavaScript;Python;HTML;CSSRedis;SQL Server;MyS...</td>\n",
       "      <td>Full-stack developer</td>\n",
       "    </tr>\n",
       "    <tr>\n",
       "      <th>1</th>\n",
       "      <td>NaN</td>\n",
       "      <td>Database administrator;DevOps specialist;Full-...</td>\n",
       "    </tr>\n",
       "    <tr>\n",
       "      <th>2</th>\n",
       "      <td>NaN</td>\n",
       "      <td>Engineering manager;Full-stack developer</td>\n",
       "    </tr>\n",
       "    <tr>\n",
       "      <th>3</th>\n",
       "      <td>NaN</td>\n",
       "      <td>Full-stack developer</td>\n",
       "    </tr>\n",
       "    <tr>\n",
       "      <th>4</th>\n",
       "      <td>NaN</td>\n",
       "      <td>Data or business analyst;Desktop or enterprise...</td>\n",
       "    </tr>\n",
       "  </tbody>\n",
       "</table>\n",
       "</div>"
      ],
      "text/plain": [
       "                                              skills  \\\n",
       "0  JavaScript;Python;HTML;CSSRedis;SQL Server;MyS...   \n",
       "1                                                NaN   \n",
       "2                                                NaN   \n",
       "3                                                NaN   \n",
       "4                                                NaN   \n",
       "\n",
       "                                            jobtitle  \n",
       "0                               Full-stack developer  \n",
       "1  Database administrator;DevOps specialist;Full-...  \n",
       "2           Engineering manager;Full-stack developer  \n",
       "3                               Full-stack developer  \n",
       "4  Data or business analyst;Desktop or enterprise...  "
      ]
     },
     "execution_count": 23,
     "metadata": {},
     "output_type": "execute_result"
    }
   ],
   "source": [
    "path = '../../data/profile_data.csv'\n",
    "profile_data = pd.read_csv(path)\n",
    "profiles = pd.DataFrame(columns=['skills','jobtitle'])\n",
    "profiles['skills']= profile_data['LanguageWorkedWith'] + profile_data['DatabaseWorkedWith'] + profile_data['PlatformWorkedWith'] + profile_data['FrameworkWorkedWith'] + profile_data['IDE'] + profile_data['OperatingSystem'] + profile_data['Methodology'] + profile_data['VersionControl']\n",
    "profiles['jobtitle'] = profile_data['DevType']\n",
    "profiles.head(5)"
   ]
  },
  {
   "cell_type": "code",
   "execution_count": 24,
   "id": "956de810",
   "metadata": {},
   "outputs": [
    {
     "data": {
      "text/plain": [
       "98855"
      ]
     },
     "execution_count": 24,
     "metadata": {},
     "output_type": "execute_result"
    }
   ],
   "source": [
    "len(profiles)"
   ]
  },
  {
   "cell_type": "code",
   "execution_count": 25,
   "id": "b191e19a",
   "metadata": {},
   "outputs": [
    {
     "data": {
      "text/html": [
       "<div>\n",
       "<style scoped>\n",
       "    .dataframe tbody tr th:only-of-type {\n",
       "        vertical-align: middle;\n",
       "    }\n",
       "\n",
       "    .dataframe tbody tr th {\n",
       "        vertical-align: top;\n",
       "    }\n",
       "\n",
       "    .dataframe thead th {\n",
       "        text-align: right;\n",
       "    }\n",
       "</style>\n",
       "<table border=\"1\" class=\"dataframe\">\n",
       "  <thead>\n",
       "    <tr style=\"text-align: right;\">\n",
       "      <th></th>\n",
       "      <th>skills</th>\n",
       "      <th>jobtitle</th>\n",
       "    </tr>\n",
       "  </thead>\n",
       "  <tbody>\n",
       "    <tr>\n",
       "      <th>0</th>\n",
       "      <td>javascript;python;html;cssredis;sql server;mys...</td>\n",
       "      <td>full-stack developer</td>\n",
       "    </tr>\n",
       "    <tr>\n",
       "      <th>1</th>\n",
       "      <td>java;javascript;python;typescript;html;cssmong...</td>\n",
       "      <td>back-end developer;database administrator;fron...</td>\n",
       "    </tr>\n",
       "    <tr>\n",
       "      <th>2</th>\n",
       "      <td>javascript;html;cssmongodblinuxnode.js;reactat...</td>\n",
       "      <td>back-end developer;front-end developer;full-st...</td>\n",
       "    </tr>\n",
       "    <tr>\n",
       "      <th>3</th>\n",
       "      <td>javascript;typescript;html;cssmongodb;mysql;mi...</td>\n",
       "      <td>designer;front-end developer;qa or test developer</td>\n",
       "    </tr>\n",
       "    <tr>\n",
       "      <th>4</th>\n",
       "      <td>assembly;coffeescript;erlang;go;javascript;lua...</td>\n",
       "      <td>back-end developer;c-suite executive (ceo, cto...</td>\n",
       "    </tr>\n",
       "  </tbody>\n",
       "</table>\n",
       "</div>"
      ],
      "text/plain": [
       "                                              skills  \\\n",
       "0  javascript;python;html;cssredis;sql server;mys...   \n",
       "1  java;javascript;python;typescript;html;cssmong...   \n",
       "2  javascript;html;cssmongodblinuxnode.js;reactat...   \n",
       "3  javascript;typescript;html;cssmongodb;mysql;mi...   \n",
       "4  assembly;coffeescript;erlang;go;javascript;lua...   \n",
       "\n",
       "                                            jobtitle  \n",
       "0                               full-stack developer  \n",
       "1  back-end developer;database administrator;fron...  \n",
       "2  back-end developer;front-end developer;full-st...  \n",
       "3  designer;front-end developer;qa or test developer  \n",
       "4  back-end developer;c-suite executive (ceo, cto...  "
      ]
     },
     "execution_count": 25,
     "metadata": {},
     "output_type": "execute_result"
    }
   ],
   "source": [
    "profiles = profiles.dropna().reset_index(drop=True)\n",
    "profiles['skills'] = profiles['skills'].str.lower()\n",
    "profiles['jobtitle'] = profiles['jobtitle'].str.lower()\n",
    "profiles.head(5)"
   ]
  },
  {
   "cell_type": "code",
   "execution_count": 26,
   "id": "a3e1ac3c",
   "metadata": {},
   "outputs": [
    {
     "data": {
      "text/plain": [
       "['../model_save/cleaned_profiles_weight.pkl']"
      ]
     },
     "execution_count": 26,
     "metadata": {},
     "output_type": "execute_result"
    }
   ],
   "source": [
    "joblib.dump(profiles,'../model_save/cleaned_profiles_weight.pkl')"
   ]
  },
  {
   "cell_type": "code",
   "execution_count": 16,
   "id": "9b0abf77",
   "metadata": {},
   "outputs": [],
   "source": [
    "ps = PorterStemmer()\n",
    "all_stopwords = stopwords.words('english')"
   ]
  },
  {
   "cell_type": "code",
   "execution_count": 18,
   "id": "d1f625b7",
   "metadata": {},
   "outputs": [],
   "source": [
    "for i in range(len(profiles)):\n",
    "    temp = re.sub('[^a-zA-Z]', ' ', profiles[\"jobtitle\"][i])\n",
    "    temp = temp.split()\n",
    "    temp = [ps.stem(word) for word in temp if not word in set(all_stopwords)]\n",
    "    temp = ' '.join(temp)\n",
    "    profiles[\"jobtitle\"][i] = temp"
   ]
  },
  {
   "cell_type": "code",
   "execution_count": 19,
   "id": "b504635f",
   "metadata": {},
   "outputs": [],
   "source": [
    "for i in range(len(profiles)):\n",
    "    temp = re.sub('[^a-zA-Z]', ' ', profiles[\"skills\"][i])\n",
    "    temp = temp.split()\n",
    "    temp = [ps.stem(word) for word in temp if not word in set(all_stopwords)]\n",
    "    temp = ' '.join(temp)\n",
    "    profiles[\"skills\"][i] = temp"
   ]
  },
  {
   "cell_type": "code",
   "execution_count": 20,
   "id": "ef4b1435",
   "metadata": {},
   "outputs": [
    {
     "data": {
      "text/html": [
       "<div>\n",
       "<style scoped>\n",
       "    .dataframe tbody tr th:only-of-type {\n",
       "        vertical-align: middle;\n",
       "    }\n",
       "\n",
       "    .dataframe tbody tr th {\n",
       "        vertical-align: top;\n",
       "    }\n",
       "\n",
       "    .dataframe thead th {\n",
       "        text-align: right;\n",
       "    }\n",
       "</style>\n",
       "<table border=\"1\" class=\"dataframe\">\n",
       "  <thead>\n",
       "    <tr style=\"text-align: right;\">\n",
       "      <th></th>\n",
       "      <th>skills</th>\n",
       "      <th>jobtitle</th>\n",
       "    </tr>\n",
       "  </thead>\n",
       "  <tbody>\n",
       "    <tr>\n",
       "      <th>0</th>\n",
       "      <td>javascript python html cssredi sql server mysq...</td>\n",
       "      <td>full stack develop</td>\n",
       "    </tr>\n",
       "    <tr>\n",
       "      <th>1</th>\n",
       "      <td>java javascript python typescript html cssmong...</td>\n",
       "      <td>back end develop databa administr front end de...</td>\n",
       "    </tr>\n",
       "    <tr>\n",
       "      <th>2</th>\n",
       "      <td>javascript html cssmongodblinuxnod js reactato...</td>\n",
       "      <td>back end develop front end develop full stack ...</td>\n",
       "    </tr>\n",
       "    <tr>\n",
       "      <th>3</th>\n",
       "      <td>javascript typescript html cssmongodb mysql mi...</td>\n",
       "      <td>design front end develop qa test develop</td>\n",
       "    </tr>\n",
       "    <tr>\n",
       "      <th>4</th>\n",
       "      <td>assembl coffeescript erlang go javascript lua ...</td>\n",
       "      <td>back end develop c suit execut ceo cto etc dat...</td>\n",
       "    </tr>\n",
       "  </tbody>\n",
       "</table>\n",
       "</div>"
      ],
      "text/plain": [
       "                                              skills  \\\n",
       "0  javascript python html cssredi sql server mysq...   \n",
       "1  java javascript python typescript html cssmong...   \n",
       "2  javascript html cssmongodblinuxnod js reactato...   \n",
       "3  javascript typescript html cssmongodb mysql mi...   \n",
       "4  assembl coffeescript erlang go javascript lua ...   \n",
       "\n",
       "                                            jobtitle  \n",
       "0                                 full stack develop  \n",
       "1  back end develop databa administr front end de...  \n",
       "2  back end develop front end develop full stack ...  \n",
       "3           design front end develop qa test develop  \n",
       "4  back end develop c suit execut ceo cto etc dat...  "
      ]
     },
     "execution_count": 20,
     "metadata": {},
     "output_type": "execute_result"
    }
   ],
   "source": [
    "profiles.head(5)"
   ]
  },
  {
   "cell_type": "code",
   "execution_count": 21,
   "id": "df666430",
   "metadata": {},
   "outputs": [
    {
     "data": {
      "text/plain": [
       "['../model_save/cleaned_profiles.pkl']"
      ]
     },
     "execution_count": 21,
     "metadata": {},
     "output_type": "execute_result"
    }
   ],
   "source": [
    "joblib.dump(profiles,'../model_save/cleaned_profiles.pkl')"
   ]
  },
  {
   "cell_type": "code",
   "execution_count": null,
   "id": "e4c37a61",
   "metadata": {},
   "outputs": [],
   "source": []
  }
 ],
 "metadata": {
  "kernelspec": {
   "display_name": "Python 3",
   "language": "python",
   "name": "python3"
  },
  "language_info": {
   "codemirror_mode": {
    "name": "ipython",
    "version": 3
   },
   "file_extension": ".py",
   "mimetype": "text/x-python",
   "name": "python",
   "nbconvert_exporter": "python",
   "pygments_lexer": "ipython3",
   "version": "3.8.8"
  }
 },
 "nbformat": 4,
 "nbformat_minor": 5
}
